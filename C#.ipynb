{
 "cells": [
  {
   "cell_type": "markdown",
   "id": "a8067c9c",
   "metadata": {},
   "source": [
    "# Question 1: C#\n",
    "What data type is each of the following?"
   ]
  },
  {
   "cell_type": "code",
   "execution_count": 11,
   "id": "b38a5bd6",
   "metadata": {},
   "outputs": [
    {
     "name": "stdout",
     "output_type": "stream",
     "text": [
      "System.Int32\r\n"
     ]
    }
   ],
   "source": [
    "dynamic a1 = 5;\n",
    "Console.WriteLine(a1.GetType());"
   ]
  },
  {
   "cell_type": "code",
   "execution_count": 12,
   "id": "d10cfcbc",
   "metadata": {},
   "outputs": [
    {
     "name": "stdout",
     "output_type": "stream",
     "text": [
      "System.Double\r\n"
     ]
    }
   ],
   "source": [
    "dynamic a2 = 5.0;\n",
    "Console.WriteLine(a2.GetType());"
   ]
  },
  {
   "cell_type": "code",
   "execution_count": 13,
   "id": "cbc2e9b6",
   "metadata": {},
   "outputs": [
    {
     "name": "stdout",
     "output_type": "stream",
     "text": [
      "System.Boolean\r\n"
     ]
    }
   ],
   "source": [
    "dynamic a3 = 5>1;\n",
    "Console.WriteLine(a3.GetType());"
   ]
  },
  {
   "cell_type": "code",
   "execution_count": 14,
   "id": "a76b4b34",
   "metadata": {},
   "outputs": [
    {
     "name": "stdout",
     "output_type": "stream",
     "text": [
      "System.Char\r\n"
     ]
    }
   ],
   "source": [
    "dynamic a4 = '5';\n",
    "Console.WriteLine(a4.GetType());"
   ]
  },
  {
   "cell_type": "code",
   "execution_count": 15,
   "id": "b10caeb6",
   "metadata": {},
   "outputs": [
    {
     "name": "stdout",
     "output_type": "stream",
     "text": [
      "System.Int32\r\n"
     ]
    }
   ],
   "source": [
    "dynamic a5 = 5*2;\n",
    "Console.WriteLine(a5.GetType());"
   ]
  },
  {
   "cell_type": "code",
   "execution_count": 16,
   "id": "1e7e51d0",
   "metadata": {},
   "outputs": [
    {
     "name": "stdout",
     "output_type": "stream",
     "text": [
      "System.Int32\r\n"
     ]
    }
   ],
   "source": [
    "dynamic a6 = '5'*2;\n",
    "Console.WriteLine(a6.GetType());"
   ]
  },
  {
   "cell_type": "code",
   "execution_count": 17,
   "id": "1e8a7301",
   "metadata": {},
   "outputs": [
    {
     "name": "stdout",
     "output_type": "stream",
     "text": [
      "System.Int32\r\n"
     ]
    }
   ],
   "source": [
    "dynamic a7 = '5'+'2';\n",
    "Console.WriteLine(a7.GetType());"
   ]
  },
  {
   "cell_type": "code",
   "execution_count": 18,
   "id": "1d750e57",
   "metadata": {},
   "outputs": [
    {
     "name": "stdout",
     "output_type": "stream",
     "text": [
      "System.Int32\r\n"
     ]
    }
   ],
   "source": [
    "dynamic a8 = 5/2;\n",
    "Console.WriteLine(a8.GetType());"
   ]
  },
  {
   "cell_type": "code",
   "execution_count": 19,
   "id": "848c6860",
   "metadata": {},
   "outputs": [
    {
     "name": "stdout",
     "output_type": "stream",
     "text": [
      "System.Int32\r\n"
     ]
    }
   ],
   "source": [
    "dynamic a9 = 5%2;\n",
    "Console.WriteLine(a9.GetType());"
   ]
  },
  {
   "cell_type": "code",
   "execution_count": null,
   "id": "b174c3fa",
   "metadata": {},
   "outputs": [],
   "source": [
    "//{5,2,1}; Array"
   ]
  },
  {
   "cell_type": "markdown",
   "id": "b92e2ab8",
   "metadata": {},
   "source": [
    "# Question 2: C#"
   ]
  },
  {
   "cell_type": "code",
   "execution_count": 20,
   "id": "a99e159d",
   "metadata": {},
   "outputs": [
    {
     "name": "stdout",
     "output_type": "stream",
     "text": [
      "34\r\n"
     ]
    }
   ],
   "source": [
    "//Q2 a.How many letters are there in 'Supercalifragilisticexpialidocious'?\n",
    "int count = 0;\n",
    "string s1 = \"Supercalifragilisticexpialidocious\";\n",
    "foreach(char c in s1)\n",
    "{\n",
    "   count++;\n",
    "}\n",
    "Console.WriteLine(count);"
   ]
  },
  {
   "cell_type": "code",
   "execution_count": 21,
   "id": "dd340623",
   "metadata": {},
   "outputs": [
    {
     "name": "stdout",
     "output_type": "stream",
     "text": [
      "Word ice is there\r\n"
     ]
    }
   ],
   "source": [
    "//Q2 b. Does 'Supercalifragilisticexpialidocious' contain 'ice' as a substring?\n",
    "if(s1.Contains(\"ice\")==true)\n",
    "{\n",
    "  Console.WriteLine(\"Word ice is there\");\n",
    "}\n",
    "else\n",
    "{\n",
    "Console.WriteLine(\"Word ice not there\");\n",
    "}"
   ]
  },
  {
   "cell_type": "code",
   "execution_count": 22,
   "id": "3db12683",
   "metadata": {},
   "outputs": [
    {
     "name": "stdout",
     "output_type": "stream",
     "text": [
      "Bababadalgharaghtakamminarronnkonn is longest\r\n"
     ]
    }
   ],
   "source": [
    "//Q2 c.Which of the following words is the longest:Supercalifragilisticexpialidocious, Honorificabilitudinitatibus, orBababadalgharaghtakamminarronnkonn?\n",
    "\n",
    "string s2 = \"Honorificabilitudinitatibus\";\n",
    "string s3 = \"Bababadalgharaghtakamminarronnkonn\";\n",
    "\n",
    "if (s1.Length > s2.Length & s1.Length > s3.Length)\n",
    "{\n",
    "    Console.WriteLine(\"Supercalifragilisticexpialidocious is longest\");\n",
    "}\n",
    "else if (s2.Length > s1.Length & s2.Length > s3.Length)\n",
    "{\n",
    "    Console.WriteLine(\"Honorificabilitudinitatibus is longest\");\n",
    "}\n",
    "else\n",
    "{\n",
    "    Console.WriteLine(\"Bababadalgharaghtakamminarronnkonn is longest\");\n",
    "}"
   ]
  },
  {
   "cell_type": "code",
   "execution_count": 23,
   "id": "48f40eee",
   "metadata": {},
   "outputs": [
    {
     "name": "stdout",
     "output_type": "stream",
     "text": [
      "first in the list : Bartok\n",
      "last in the list : Buxtehude\n"
     ]
    }
   ],
   "source": [
    "//Q2 d.Which composer comes first in the dictionary: 'Berlioz', 'Borodin', 'Brian','Bartok', 'Bellini', 'Buxtehude', 'Bernstein'. Which one comes last?\n",
    "\n",
    "List<string> lst = new List<string>();\n",
    "lst.Add(\"Berlioz\");\n",
    "lst.Add(\"Borodin\");\n",
    "lst.Add(\"Brian\");\n",
    "lst.Add(\"Bartok\");\n",
    "lst.Add(\"Bellini\");\n",
    "lst.Add(\"Buxtehude\");\n",
    "lst.Add(\"Bernstein\");\n",
    "lst.Sort();\n",
    "Console.WriteLine(\"first in the list : \" + lst[0]);\n",
    "lst.Reverse();\n",
    "Console.WriteLine(\"last in the list : \" + lst[0]);"
   ]
  },
  {
   "cell_type": "markdown",
   "id": "5d790bd2",
   "metadata": {},
   "source": [
    "# Question 3: C#"
   ]
  },
  {
   "cell_type": "code",
   "execution_count": 24,
   "id": "209dbb0c",
   "metadata": {},
   "outputs": [
    {
     "name": "stdout",
     "output_type": "stream",
     "text": [
      "Area of Triangle : 1.7320508075688772\r\n"
     ]
    }
   ],
   "source": [
    "// Q3 Implement function triangleArea(a,b,c) that takes as input the lengths of the 3sides of a triangle and returns the area of the triangle. By Heron's formula, the areaof a triangle with side lengths a, b, and c iss(s - a)(s -b)(s -c), where s = (a+b+c)/2. \n",
    "\n",
    "public static double triangleArea(int a, int b, int c)\n",
    "{\n",
    "    double s = (a + b + c) / 2;\n",
    "    double area = Math.Sqrt(s * (s - a) *\n",
    "        (s - b) * (s - c));\n",
    "    return area;\n",
    "}\n",
    "double area = triangleArea(2, 2, 2);\n",
    "Console.WriteLine($\"Area of Triangle : {area}\")"
   ]
  },
  {
   "cell_type": "markdown",
   "id": "fd32b28b",
   "metadata": {},
   "source": [
    "# Question 4: C#"
   ]
  },
  {
   "cell_type": "code",
   "execution_count": 25,
   "id": "b5a0cda3",
   "metadata": {},
   "outputs": [
    {
     "name": "stdout",
     "output_type": "stream",
     "text": [
      "\n",
      "Even  Number\n",
      "42\n",
      "56\n",
      "32\n",
      "\n",
      "Odd  Number\n",
      "25\n",
      "47\n"
     ]
    }
   ],
   "source": [
    "//Q4.\n",
    "int[]arr = new int[5]; \n",
    "        arr[0] = 25;  \n",
    "        arr[1] = 47;  \n",
    "        arr[2] = 42; \n",
    "        arr[3] = 56;\n",
    "        arr[4]=  32;\n",
    "           Console.WriteLine(\"\\nEven  Number\");\n",
    "        for(int i=0;i<5;i++)\n",
    "        {\n",
    "            if(arr[i]%2==0)\n",
    "            {\n",
    "            Console.WriteLine(arr[i]);  \n",
    "            }\n",
    "        }\n",
    "        Console.WriteLine(\"\\nOdd  Number\"); \n",
    "          for(int i=0;i<5;i++)\n",
    "        {\n",
    "            if(arr[i]%2!=0)\n",
    "            {\n",
    "            Console.WriteLine(arr[i]);  \n",
    "}\n",
    "}"
   ]
  },
  {
   "cell_type": "markdown",
   "id": "06d9f4ad",
   "metadata": {},
   "source": [
    "# Question 5: C#"
   ]
  },
  {
   "cell_type": "code",
   "execution_count": 27,
   "id": "b65684f0",
   "metadata": {},
   "outputs": [
    {
     "name": "stdout",
     "output_type": "stream",
     "text": [
      "----------Question a.--------\n",
      "\n",
      "inside(1,1,0,0,2,3):True\n",
      "inside(-1,-1,0,0,2,3):False\n",
      "\n",
      "----------Question b.--------\n",
      "\n",
      "The points (1,1) doesn't lie in both of the following rectangles\n",
      "\n",
      "inside(1,1,0.3,0.5,1.1,0.7):False\n",
      "inside(1,1,0.5,0.2,1.1,2):True\n"
     ]
    }
   ],
   "source": [
    "//QUESTION 5\n",
    "public static bool inside(double x, double y, double x1, double y1, double x2, double y2)\n",
    "{  \n",
    "\n",
    "    if (x > x1 && x < x2 &&\n",
    "        y > y1 && y < y2)\n",
    "        return true;\n",
    "\n",
    "    return false;\n",
    "}\n",
    "\n",
    "Console.WriteLine(\"----------Question a.--------\\n\");\n",
    "Console.WriteLine($\"inside(1,1,0,0,2,3):{inside(1,1,0,0,2,3)}\");\n",
    "Console.WriteLine($\"inside(-1,-1,0,0,2,3):{inside(-1,-1,0,0,2,3)}\\n\");\n",
    "\n",
    "\n",
    "Console.WriteLine(\"----------Question b.--------\\n\");\n",
    "\n",
    "\n",
    "if(inside(1,1,0.3,0.5,1.1,0.7) && inside(1,1,0.5,0.2,1.1,2)){\n",
    "    Console.WriteLine(\"the points (1,1) lies in both of the following rectangles\");\n",
    "}\n",
    "else{\n",
    "    Console.WriteLine(\"The points (1,1) doesn't lie in both of the following rectangles\");\n",
    "}\n",
    "Console.WriteLine($\"\\ninside(1,1,0.3,0.5,1.1,0.7):{inside(1,1,0.3,0.5,1.1,0.7)}\");\n",
    "Console.WriteLine($\"inside(1,1,0.5,0.2,1.1,2):{inside(1,1,0.5,0.2,1.1,2)}\");"
   ]
  },
  {
   "cell_type": "code",
   "execution_count": null,
   "id": "fd2e0ae5",
   "metadata": {},
   "outputs": [],
   "source": []
  }
 ],
 "metadata": {
  "kernelspec": {
   "display_name": ".NET (C#)",
   "language": "C#",
   "name": ".net-csharp"
  },
  "language_info": {
   "file_extension": ".cs",
   "mimetype": "text/x-csharp",
   "name": "C#",
   "pygments_lexer": "csharp",
   "version": "8.0"
  }
 },
 "nbformat": 4,
 "nbformat_minor": 5
}
