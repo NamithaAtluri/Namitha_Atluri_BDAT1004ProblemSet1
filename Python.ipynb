{
 "cells": [
  {
   "cell_type": "code",
   "execution_count": 38,
   "id": "b5a9dab4",
   "metadata": {},
   "outputs": [],
   "source": [
    "#QUESTION 6\n",
    "vowels = ['a','e','i','o','u']\n",
    "def pig(word):\n",
    "    \n",
    "    \n",
    "    if word[0].lower() in vowels:\n",
    "        print(word.lower() + 'way')\n",
    "    else:\n",
    "        first_letter = word[0]\n",
    "        print(word[1:].lower()+first_letter.lower()+'ay')"
   ]
  },
  {
   "cell_type": "code",
   "execution_count": 39,
   "id": "3a115fa7",
   "metadata": {},
   "outputs": [
    {
     "name": "stdout",
     "output_type": "stream",
     "text": [
      "anadacay\n"
     ]
    }
   ],
   "source": [
    "pig('Canada')"
   ]
  },
  {
   "cell_type": "code",
   "execution_count": 41,
   "id": "2c797566",
   "metadata": {},
   "outputs": [
    {
     "name": "stdout",
     "output_type": "stream",
     "text": [
      "appyhay\n"
     ]
    }
   ],
   "source": [
    "pig('happy')"
   ]
  },
  {
   "cell_type": "code",
   "execution_count": 42,
   "id": "62b1c9c3",
   "metadata": {},
   "outputs": [
    {
     "name": "stdout",
     "output_type": "stream",
     "text": [
      "enterway\n"
     ]
    }
   ],
   "source": [
    "pig('enter')"
   ]
  },
  {
   "cell_type": "code",
   "execution_count": 44,
   "id": "43a380f7",
   "metadata": {},
   "outputs": [],
   "source": [
    "#QUESTION 7:\n",
    "def bldcount(filename):\n",
    "    \n",
    "\n",
    "    f = open(filename,'r')\n",
    "    word = f.readline()\n",
    "    lst = []\n",
    "    blood_types = ['A','B','AB','O','OO']\n",
    "    \n",
    "    lst.append(word.split(\" \"))\n",
    "    \n",
    "    \n",
    "    for blood_type in blood_types:\n",
    "        print(\"There are {} patients of blood type {}.\".format(lst[0].count(blood_type),blood_type))"
   ]
  },
  {
   "cell_type": "code",
   "execution_count": 45,
   "id": "f6877593",
   "metadata": {},
   "outputs": [
    {
     "name": "stdout",
     "output_type": "stream",
     "text": [
      "There are 15 patients of blood type A.\n",
      "There are 1 patients of blood type B.\n",
      "There are 13 patients of blood type AB.\n",
      "There are 15 patients of blood type O.\n",
      "There are 0 patients of blood type OO.\n"
     ]
    }
   ],
   "source": [
    "bldcount(\"bloodtype1.txt\")"
   ]
  },
  {
   "cell_type": "code",
   "execution_count": 3,
   "id": "c7548354",
   "metadata": {},
   "outputs": [
    {
     "name": "stdout",
     "output_type": "stream",
     "text": [
      "enter the currencyINR\n",
      "enter the amount 250\n",
      "4.441075\n"
     ]
    }
   ],
   "source": [
    "#QUESTION 8\n",
    "def curconv(currency,amount):\n",
    "    currencies = {}\n",
    "    \n",
    "\n",
    "    cur = open('currencies.txt')\n",
    "    lines = cur.readlines()\n",
    "    \n",
    "    \n",
    "    for x in lines:\n",
    "        currencies[x[:3].strip()] = x[4:].split(\"\\t\")\n",
    "    value = currencies[currency][0].strip()\n",
    "    print(amount * float(value))\n",
    "    \n",
    "    \n",
    " \n",
    "currency = input(\"enter the currency\")\n",
    "amount = int(input(\"enter the amount \"))\n",
    "curconv(currency,amount)"
   ]
  },
  {
   "cell_type": "code",
   "execution_count": null,
   "id": "7ef40151",
   "metadata": {},
   "outputs": [],
   "source": [
    "#QUESTION 9\n",
    "#ERRORS:\n",
    "a) Unsupported type\n",
    "b) Out of index\n",
    "c) Domain error\n",
    "d) Variable not defined\n",
    "e) No such directory found"
   ]
  },
  {
   "cell_type": "code",
   "execution_count": 6,
   "id": "adbc43cc",
   "metadata": {},
   "outputs": [],
   "source": [
    "#QUESTION 10\n",
    "\n",
    "def frequencies(text):\n",
    "    \n",
    "    #set of alphabets\n",
    "    alphabets = ('a','b','c','d','e','f','g','h','i','j','k','l','m','n','o','p','q','r','s','t','u','v','w','x','y','z')\n",
    "    total_letters = []\n",
    "    alpha_dict = {}\n",
    "    for word in text:\n",
    "        for char in word:\n",
    "            if char.isalpha():\n",
    "                total_letters.append(char)\n",
    "    for char in alphabets:\n",
    "        if char in total_letters:\n",
    "            alpha_dict[char] = total_letters.count(char)\n",
    "        else:\n",
    "            alpha_dict[char] = 0\n",
    "    print(list(alpha_dict.values()))"
   ]
  },
  {
   "cell_type": "code",
   "execution_count": 7,
   "id": "ab6ddb24",
   "metadata": {},
   "outputs": [
    {
     "name": "stdout",
     "output_type": "stream",
     "text": [
      "[1, 1, 1, 3, 5, 1, 1, 2, 1, 0, 1, 0, 1, 2, 4, 0, 1, 2, 0, 2, 1, 0, 1, 1, 0, 0]\n"
     ]
    }
   ],
   "source": [
    "frequencies('The quick red fox got bored and went home.')"
   ]
  },
  {
   "cell_type": "code",
   "execution_count": 8,
   "id": "1a01454b",
   "metadata": {},
   "outputs": [
    {
     "name": "stdout",
     "output_type": "stream",
     "text": [
      "[1, 0, 0, 0, 1, 0, 0, 0, 0, 0, 0, 1, 0, 0, 0, 2, 0, 0, 0, 0, 0, 0, 0, 0, 0, 0]\n"
     ]
    }
   ],
   "source": [
    "frequencies('apple')"
   ]
  },
  {
   "cell_type": "code",
   "execution_count": 35,
   "id": "3188e904",
   "metadata": {},
   "outputs": [],
   "source": [
    "#QUESTION 6\n",
    "vowels = ['a','e','i','o','u']\n",
    "def pig(word):\n",
    "    \n",
    "    \n",
    "    if word[0].lower() in vowels:\n",
    "        print(word.lower() + 'way')\n",
    "    else:\n",
    "        first_letter = word[0]\n",
    "        print(word[1:].lower()+first_letter.lower()+'ay')"
   ]
  },
  {
   "cell_type": "code",
   "execution_count": 36,
   "id": "f792c90e",
   "metadata": {},
   "outputs": [
    {
     "name": "stdout",
     "output_type": "stream",
     "text": [
      "oneyhay\n"
     ]
    }
   ],
   "source": [
    "pig('honey')"
   ]
  },
  {
   "cell_type": "code",
   "execution_count": null,
   "id": "36ec88f7",
   "metadata": {},
   "outputs": [],
   "source": []
  }
 ],
 "metadata": {
  "kernelspec": {
   "display_name": "Python 3 (ipykernel)",
   "language": "python",
   "name": "python3"
  },
  "language_info": {
   "codemirror_mode": {
    "name": "ipython",
    "version": 3
   },
   "file_extension": ".py",
   "mimetype": "text/x-python",
   "name": "python",
   "nbconvert_exporter": "python",
   "pygments_lexer": "ipython3",
   "version": "3.9.12"
  }
 },
 "nbformat": 4,
 "nbformat_minor": 5
}
